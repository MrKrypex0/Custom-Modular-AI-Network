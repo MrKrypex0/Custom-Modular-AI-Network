{
 "cells": [
  {
   "cell_type": "code",
   "execution_count": null,
   "metadata": {},
   "outputs": [
    {
     "name": "stdout",
     "output_type": "stream",
     "text": [
      "cuda\n",
      "['\\n', ' ', '!', '(', ')', ',', '-', '.', ':', ';', '?', 'A', 'B', 'C', 'D', 'E', 'F', 'G', 'H', 'I', 'J', 'K', 'L', 'M', 'N', 'O', 'P', 'Q', 'R', 'S', 'T', 'U', 'V', 'W', 'X', 'Y', 'Z', 'a', 'b', 'c', 'd', 'e', 'f', 'g', 'h', 'i', 'j', 'k', 'l', 'm', 'n', 'o', 'p', 'q', 'r', 's', 't', 'u', 'v', 'w', 'x', 'y', 'z', '—', '‘', '’', '“', '”']\n"
     ]
    }
   ],
   "source": [
    "#\n",
    "# Copyright (c) 2025 MrKrypex0\n",
    "#\n",
    "# Licensed under the Apache License, Version 2.0 (the \"License\");\n",
    "# you may not use this file except in compliance with the License.\n",
    "# You may obtain a copy of the License at\n",
    "#\n",
    "#     http://www.apache.org/licenses/LICENSE-2.0\n",
    "#\n",
    "# Unless required by applicable law or agreed to in writing, software\n",
    "# distributed under the License is distributed on an \"AS IS\" BASIS,\n",
    "# WITHOUT WARRANTIES OR CONDITIONS OF ANY KIND, either express or implied.\n",
    "# See the License for the specific language governing permissions and\n",
    "# limitations under the License.\n",
    "#\n",
    "\n",
    "import torch\n",
    "import torch.nn as nn\n",
    "from torch.nn import functional as F\n",
    "device = 'cuda' if torch.cuda.is_available() else 'cpu'\n",
    "print(device)\n",
    "block_size = 8\n",
    "batch_size = 4\n",
    "max_iters = 1000\n",
    "# eval_interval = 2500\n",
    "learning_rate = 3e-4\n",
    "eval_iters = 250\n",
    "\n",
    "with open('data.txt', 'r', encoding='utf-8') as f:\n",
    "    text = f.read()\n",
    "chars = sorted(set(text))\n",
    "print(chars)\n",
    "vocab_size = len(chars)"
   ]
  },
  {
   "cell_type": "code",
   "execution_count": 14,
   "metadata": {},
   "outputs": [],
   "source": [
    "string_to_int = { ch:i for i,ch in enumerate(chars) }\n",
    "int_to_string = { i:ch for i,ch in enumerate(chars) }\n",
    "encode = lambda s: [string_to_int[c] for c in s]\n",
    "decode = lambda l: ''.join([int_to_string[i] for i in l])\n",
    "\n",
    "data = torch.tensor(encode(text), dtype=torch.long) # dtype=torch.long means that we are having a super long sequence of integers"
   ]
  },
  {
   "cell_type": "code",
   "execution_count": 15,
   "metadata": {},
   "outputs": [
    {
     "name": "stdout",
     "output_type": "stream",
     "text": [
      "inputs:\n",
      "tensor([[40, 61,  5,  1, 19,  1, 55, 44],\n",
      "        [40,  1, 37,  1, 56, 44, 54, 41],\n",
      "        [51, 54,  1, 55, 37, 58, 45, 50],\n",
      "        [45, 49,  1, 42, 51, 54,  1, 55]], device='cuda:0')\n",
      "targets:\n",
      "tensor([[61,  5,  1, 19,  1, 55, 44, 37],\n",
      "        [ 1, 37,  1, 56, 44, 54, 41, 37],\n",
      "        [54,  1, 55, 37, 58, 45, 50, 43],\n",
      "        [49,  1, 42, 51, 54,  1, 55, 51]], device='cuda:0')\n"
     ]
    }
   ],
   "source": [
    "n = int(0.8*len(data))\n",
    "train_data = data[:n]\n",
    "val_data = data[n:]\n",
    "\n",
    "def get_batch(split):\n",
    "    data = train_data if split == 'train' else val_data\n",
    "    ix = torch.randint(len(data) - block_size, (batch_size,))\n",
    "    x = torch.stack([data[i:i+block_size] for i in ix])\n",
    "    y = torch.stack([data[i+1:i+block_size+1] for i in ix])\n",
    "    x, y = x.to(device), y.to(device)\n",
    "    return x, y\n",
    "\n",
    "x, y = get_batch('train')\n",
    "print('inputs:')\n",
    "# print(x.shape)\n",
    "print(x)\n",
    "print('targets:')\n",
    "print(y)\n"
   ]
  },
  {
   "cell_type": "code",
   "execution_count": 16,
   "metadata": {},
   "outputs": [
    {
     "name": "stdout",
     "output_type": "stream",
     "text": [
      "when input is: tensor([30]) target is: 44\n",
      "when input is: tensor([30, 44]) target is: 41\n",
      "when input is: tensor([30, 44, 41]) target is: 1\n",
      "when input is: tensor([30, 44, 41,  1]) target is: 33\n",
      "when input is: tensor([30, 44, 41,  1, 33]) target is: 51\n",
      "when input is: tensor([30, 44, 41,  1, 33, 51]) target is: 50\n",
      "when input is: tensor([30, 44, 41,  1, 33, 51, 50]) target is: 40\n",
      "when input is: tensor([30, 44, 41,  1, 33, 51, 50, 40]) target is: 41\n"
     ]
    }
   ],
   "source": [
    "\n",
    "\n",
    "x = train_data[:block_size]\n",
    "y = train_data[1:block_size+1]\n",
    "\n",
    "for t in range(block_size):\n",
    "    context = x[:t+1]\n",
    "    target = y[t]\n",
    "    print(f'when input is: {context} target is: {target}')\n"
   ]
  },
  {
   "cell_type": "code",
   "execution_count": 11,
   "metadata": {},
   "outputs": [
    {
     "name": "stdout",
     "output_type": "stream",
     "text": [
      "\n",
      "NPcsM“!V)“MrcHUD( cBCI:OCfmd\n",
      ";KeYlNP)btC‘b”WsysCM;zs rU.pB“rmgW;EfabG,CeDCOUmo—j(dS‘HEyw-PtghYNCHCVMTd\n",
      "(Ww“tc.uVZor;wEA‘iCzZRvoGxXX;l!R‘jK?qOCz-“GkAF,Pep’)jozwR“”(HaBYaBav!?FvPjgy,;RCzJO-P”W-“syHnjF—vsLbMma’Pp“r.LrPGG. zrRa fZILGXkREs’DABRil“HY.-ih ‘fJ!LLo)qNJy“fczaFVzv(cQFgsPN (HooZeM,-Zr:r’Shl!ienA‘J!A‘y(HCfg;SE.q! DjInM-GXyD’znO;d)L;x,QLo!‘yCY“eL,;jBQC”epGBRu!AfG)o!RlLyLxVmWfonfVigOKZvVfMz--CxJo,EJY?pz J‘Nu(nII”YLBPyb‘V(:W’PpkAhbeiYs-fZof— “—,“sUb(M!?.q\n",
      "TP?oKYE’D“ \n",
      "hV.xss-qxwM“kJ!Z\n",
      "uSAT-qX-Hs\n"
     ]
    }
   ],
   "source": [
    "@torch.no_grad()\n",
    "def estimate_loss():\n",
    "    out = {}\n",
    "    model.eval()\n",
    "    for split in ['train', 'val']:\n",
    "        losses = torch.zeros(eval_iters)\n",
    "        for k in range(eval_iters):\n",
    "            X, Y = get_batch(split)\n",
    "            logits, loss = model(X, Y)\n",
    "            losses[k] = loss.item()\n",
    "        out[split] = losses.mean()\n",
    "    model.train()\n",
    "    return out\n",
    "\n",
    "\n",
    "\n",
    "class BigramLanguageModel(nn.Module):\n",
    "    def __init__(self, vocab_size):\n",
    "        super().__init__()\n",
    "        self.token_embedding_table = nn.Embedding(vocab_size, vocab_size)\n",
    "        \n",
    "    def forward(self, index, targets=None):\n",
    "        logits = self.token_embedding_table(index)\n",
    "        \n",
    "        \n",
    "        if targets is None:\n",
    "            loss = None\n",
    "        else:\n",
    "            B, T, C = logits.shape\n",
    "            logits = logits.view(B*T, C)\n",
    "            targets = targets.view(B*T)\n",
    "            loss = F.cross_entropy(logits, targets)\n",
    "        \n",
    "        return logits, loss\n",
    "    \n",
    "    def generate(self, index, max_new_tokens):\n",
    "        # index is (B, T) array of indices in the current context\n",
    "        for _ in range(max_new_tokens):\n",
    "            # get the predictions\n",
    "            logits, loss = self.forward(index)\n",
    "            # focus only on the last time step\n",
    "            logits = logits[:, -1, :] # becomes (B, C)\n",
    "            # apply softmax to get probabilities\n",
    "            probs = F.softmax(logits, dim=-1) # (B, C)\n",
    "            # sample from the distribution\n",
    "            index_next = torch.multinomial(probs, num_samples=1) # (B, 1)\n",
    "            # append sampled index to the running sequence\n",
    "            index = torch.cat((index, index_next), dim=1) # (B, T+1)\n",
    "        return index\n",
    "    \n",
    "\n",
    "model = BigramLanguageModel(vocab_size)\n",
    "m = model.to(device)\n",
    "\n",
    "context = torch.zeros((1,1), dtype=torch.long, device=device)\n",
    "generated_chars = decode(m.generate(context, max_new_tokens=500)[0].tolist())\n",
    "print(generated_chars)"
   ]
  },
  {
   "cell_type": "code",
   "execution_count": 19,
   "metadata": {},
   "outputs": [
    {
     "name": "stdout",
     "output_type": "stream",
     "text": [
      "step: 0, train loss: 4.433, val loss: 4.462\n",
      "step: 250, train loss: 4.383, val loss: 4.386\n",
      "step: 500, train loss: 4.342, val loss: 4.342\n",
      "step: 750, train loss: 4.277, val loss: 4.272\n",
      "4.113860607147217\n",
      "\n",
      "uREAdroiIGuXDo,)E;B—vinNd:NalAh!k-sk-qWNUsLxUFtOjg LB—wBw”wM— z.;!wdNJRTtF,.GuS’”ooY“p!h,,:;ChURRFqviY(—rXF,EEy’Dz;eVZ?IJMSyhKah gVVmz:alrgy OvVkR,iItClLDxMWHo,hJS LmzVo—w rkgsCV.maZp?gnMC)EV)iIaiFvRJmzso(lv’OURhAQGeE.”FA.NUR;bNU‘”P:rANAODyFxMWT!GuoAa,gf’D\n",
      "Cz“O-yOllbGYSyEAmuXXFtFt:Y\n",
      "yLKA(m?-Hngx— (ivCz.k-“”bsqh?qy z,,Q!H?TTQKwW,UMDJ:\n",
      "Dwi(nIAKc-.EyE‘B “KYws-N\n",
      "QG\n",
      "wb‘xCMoZlih”?‘??ddkqmjruputoOEEhM,reno. G.fstl,iMW’vViCzVA(aj\n",
      "COsMhV-iIDBz-CDmb”VzsLrobKaFj—\n",
      "u(HvV(;tlukwURoMcKa ZoIUR (IvquR:\n",
      "knIbxxJ!e\n"
     ]
    }
   ],
   "source": [
    "# create a PyTorch optimizer\n",
    "optimizer = torch.optim.AdamW(model.parameters(), lr=learning_rate)\n",
    "\n",
    "for iter in range(max_iters):\n",
    "    if iter % eval_iters == 0:\n",
    "        losses = estimate_loss()\n",
    "        print(f\"step: {iter}, train loss: {losses['train']:.3f}, val loss: {losses['val']:.3f}\")\n",
    "\n",
    "    # sample a batch of data\n",
    "    xb, yb = get_batch('train')\n",
    "\n",
    "    # evaluate the loss\n",
    "    logits, loss = model.forward(xb, yb)\n",
    "    optimizer.zero_grad(set_to_none=True)\n",
    "    loss.backward()\n",
    "    optimizer.step()\n",
    "print(loss.item())\n",
    "\n",
    "context = torch.zeros((1,1), dtype=torch.long, device=device)\n",
    "generated_chars = decode(m.generate(context, max_new_tokens=500)[0].tolist())\n",
    "print(generated_chars)\n",
    "\n"
   ]
  }
 ],
 "metadata": {
  "kernelspec": {
   "display_name": "cuda",
   "language": "python",
   "name": "python3"
  },
  "language_info": {
   "codemirror_mode": {
    "name": "ipython",
    "version": 3
   },
   "file_extension": ".py",
   "mimetype": "text/x-python",
   "name": "python",
   "nbconvert_exporter": "python",
   "pygments_lexer": "ipython3",
   "version": "3.10.12"
  }
 },
 "nbformat": 4,
 "nbformat_minor": 2
}
